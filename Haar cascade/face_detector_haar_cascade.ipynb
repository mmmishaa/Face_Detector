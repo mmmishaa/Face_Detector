{
 "cells": [
  {
   "cell_type": "code",
   "execution_count": 62,
   "id": "fcc25de4-5802-489f-87c7-5b8c52d4afe4",
   "metadata": {},
   "outputs": [],
   "source": [
    "def face_detector(image):\n",
    "    image = cv2.imread(file)\n",
    "    gray_image = cv2.cvtColor(image, cv2.COLOR_BGR2GRAY)\n",
    "    faces = face_cascade.detectMultiScale(gray_image, scaleFactor = 1.2, minNeighbors = 3, minSize = (80, 80))\n",
    "    for (x, y, width, height) in faces:\n",
    "        cv2.rectangle(image, (x, y), (x + width, y + height), (255, 255, 0), 2)\n",
    "    return image"
   ]
  },
  {
   "cell_type": "code",
   "execution_count": 63,
   "id": "f5244e26-99fe-4943-9f02-71939fd0d5d7",
   "metadata": {},
   "outputs": [],
   "source": [
    "import cv2\n",
    "import os, glob\n",
    "\n",
    "path1 = 'Data/One face' # 5 фото с 1 человеком на фото\n",
    "path2 = 'Data/Many faces' # 5 фото с несколькими людьми на фото\n",
    "files1 = glob.glob(os.path.join(path1, '*.jpg'))\n",
    "files2 = glob.glob(os.path.join(path2, '*.jpg'))\n",
    "\n",
    "face_cascade = cv2.CascadeClassifier('haarcascade_frontalface_default.xml')\n",
    "\n",
    "for file in files1:\n",
    "    image = face_detector(file)\n",
    "    cv2.imshow('image', image)\n",
    "    cv2.waitKey(3000)\n",
    "    cv2.destroyAllWindows()\n",
    "\n",
    "for file in files2:\n",
    "    image = face_detector(file)\n",
    "    cv2.imshow('image', image)\n",
    "    cv2.waitKey(3000)\n",
    "    cv2.destroyAllWindows()"
   ]
  }
 ],
 "metadata": {
  "kernelspec": {
   "display_name": "Python 3 (ipykernel)",
   "language": "python",
   "name": "python3"
  },
  "language_info": {
   "codemirror_mode": {
    "name": "ipython",
    "version": 3
   },
   "file_extension": ".py",
   "mimetype": "text/x-python",
   "name": "python",
   "nbconvert_exporter": "python",
   "pygments_lexer": "ipython3",
   "version": "3.13.0"
  }
 },
 "nbformat": 4,
 "nbformat_minor": 5
}
